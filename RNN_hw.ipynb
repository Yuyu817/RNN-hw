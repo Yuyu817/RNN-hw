{
  "nbformat": 4,
  "nbformat_minor": 0,
  "metadata": {
    "colab": {
      "provenance": [],
      "gpuType": "T4",
      "authorship_tag": "ABX9TyMSERbVTBSQR49QsrdxyG/q",
      "include_colab_link": true
    },
    "kernelspec": {
      "name": "python3",
      "display_name": "Python 3"
    },
    "language_info": {
      "name": "python"
    },
    "accelerator": "GPU"
  },
  "cells": [
    {
      "cell_type": "markdown",
      "metadata": {
        "id": "view-in-github",
        "colab_type": "text"
      },
      "source": [
        "<a href=\"https://colab.research.google.com/github/Yuyu817/RNN-hw/blob/main/RNN_hw.ipynb\" target=\"_parent\"><img src=\"https://colab.research.google.com/assets/colab-badge.svg\" alt=\"Open In Colab\"/></a>"
      ]
    },
    {
      "cell_type": "code",
      "execution_count": null,
      "metadata": {
        "id": "KFWf3Hqo2JdJ"
      },
      "outputs": [],
      "source": [
        "%matplotlib inline\n",
        "\n",
        "import numpy as np\n",
        "import pandas as pd\n",
        "import matplotlib.pyplot as plt"
      ]
    },
    {
      "cell_type": "markdown",
      "source": [
        "讀入深度學習套件"
      ],
      "metadata": {
        "id": "y4esTPev2Mws"
      }
    },
    {
      "cell_type": "code",
      "source": [
        "from tensorflow.keras.preprocessing import sequence\n",
        "from tensorflow.keras.models import Sequential\n",
        "from tensorflow.keras.layers import Dense, Embedding\n",
        "from tensorflow.keras.layers import LSTM\n",
        "from tensorflow.keras.datasets import imdb\n",
        "from keras.layers import SimpleRNN\n",
        "from tensorflow.keras.preprocessing.text import Tokenizer"
      ],
      "metadata": {
        "id": "8xyfS7DE2OuO"
      },
      "execution_count": null,
      "outputs": []
    },
    {
      "cell_type": "markdown",
      "source": [
        "讀入數據"
      ],
      "metadata": {
        "id": "yqUFLTCY2fo7"
      }
    },
    {
      "cell_type": "code",
      "source": [
        "(x_train, y_train), (x_test, y_test) = imdb.load_data(num_words=15000)"
      ],
      "metadata": {
        "colab": {
          "base_uri": "https://localhost:8080/"
        },
        "id": "v-cCrlOi2fDA",
        "outputId": "d0e93695-7e06-4fd1-a11a-29b87274d120"
      },
      "execution_count": null,
      "outputs": [
        {
          "output_type": "stream",
          "name": "stdout",
          "text": [
            "Downloading data from https://storage.googleapis.com/tensorflow/tf-keras-datasets/imdb.npz\n",
            "17464789/17464789 [==============================] - 2s 0us/step\n"
          ]
        }
      ]
    },
    {
      "cell_type": "code",
      "source": [
        "len(x_train[0])"
      ],
      "metadata": {
        "colab": {
          "base_uri": "https://localhost:8080/"
        },
        "id": "4cQHUacK5aEc",
        "outputId": "1ec3726c-3e23-4bf4-e0d2-a8b69a61b7ce"
      },
      "execution_count": null,
      "outputs": [
        {
          "output_type": "execute_result",
          "data": {
            "text/plain": [
              "218"
            ]
          },
          "metadata": {},
          "execution_count": 4
        }
      ]
    },
    {
      "cell_type": "code",
      "source": [
        "y_test[0]"
      ],
      "metadata": {
        "colab": {
          "base_uri": "https://localhost:8080/"
        },
        "id": "Ld1CreDw5wAv",
        "outputId": "36207ed4-acd6-4b4c-a850-1e22d7293ee3"
      },
      "execution_count": null,
      "outputs": [
        {
          "output_type": "execute_result",
          "data": {
            "text/plain": [
              "0"
            ]
          },
          "metadata": {},
          "execution_count": 5
        }
      ]
    },
    {
      "cell_type": "markdown",
      "source": [
        "資料整理"
      ],
      "metadata": {
        "id": "MX1ENBqW362N"
      }
    },
    {
      "cell_type": "code",
      "source": [
        "maxlen=130\n",
        "x_train = sequence.pad_sequences(x_train, maxlen=maxlen)\n",
        "x_test = sequence.pad_sequences(x_test, maxlen=maxlen)"
      ],
      "metadata": {
        "id": "xscj8Tsx3ki7"
      },
      "execution_count": null,
      "outputs": []
    },
    {
      "cell_type": "markdown",
      "source": [
        "建立RNN"
      ],
      "metadata": {
        "id": "yjTlQQiM3-QC"
      }
    },
    {
      "cell_type": "code",
      "source": [
        "model = Sequential()\n",
        "num_words = 15000\n",
        "model.add(Embedding(num_words,32,input_length =len(x_train[0])))\n",
        "model.add(SimpleRNN(16,input_shape = (num_words,100), return_sequences=False,activation=\"relu\"))\n",
        "model.add(Dense(1,activation = 'sigmoid')) #flatten\n",
        "\n",
        "print(model.summary())\n",
        "model.compile(loss=\"binary_crossentropy\",optimizer=\"rmsprop\",metrics=[\"accuracy\"])"
      ],
      "metadata": {
        "colab": {
          "base_uri": "https://localhost:8080/"
        },
        "id": "cQxgo--24Gdo",
        "outputId": "db8b4afb-a3ac-4fcb-fc63-fe28fff886df"
      },
      "execution_count": null,
      "outputs": [
        {
          "output_type": "stream",
          "name": "stdout",
          "text": [
            "Model: \"sequential_4\"\n",
            "_________________________________________________________________\n",
            " Layer (type)                Output Shape              Param #   \n",
            "=================================================================\n",
            " embedding_4 (Embedding)     (None, 130, 32)           480000    \n",
            "                                                                 \n",
            " simple_rnn_4 (SimpleRNN)    (None, 16)                784       \n",
            "                                                                 \n",
            " dense_4 (Dense)             (None, 1)                 17        \n",
            "                                                                 \n",
            "=================================================================\n",
            "Total params: 480801 (1.83 MB)\n",
            "Trainable params: 480801 (1.83 MB)\n",
            "Non-trainable params: 0 (0.00 Byte)\n",
            "_________________________________________________________________\n",
            "None\n"
          ]
        }
      ]
    },
    {
      "cell_type": "code",
      "source": [
        "model = Sequential()\n",
        "\n",
        "# 嵌入層\n",
        "model.add(Embedding(maxlen, 32, input_length=maxlen))\n",
        "\n",
        "# SimpleRNN層\n",
        "model.add(SimpleRNN(16))  # 只需設定units，不需要設定input_shape\n",
        "\n",
        "# 密集連接層\n",
        "model.add(Dense(1, activation='sigmoid'))\n",
        "\n",
        "model.compile(optimizer='rmsprop', loss='binary_crossentropy', metrics=['accuracy'])"
      ],
      "metadata": {
        "id": "EP_2cx86FVlG"
      },
      "execution_count": null,
      "outputs": []
    },
    {
      "cell_type": "markdown",
      "source": [
        "訓練"
      ],
      "metadata": {
        "id": "tEUOWhCE6j18"
      }
    },
    {
      "cell_type": "code",
      "source": [
        "model.fit(x_train, y_train, batch_size=128, epochs=5, verbose=1,\n",
        "         validation_data=(x_test, y_test))"
      ],
      "metadata": {
        "colab": {
          "base_uri": "https://localhost:8080/"
        },
        "id": "EdOtLRp56l80",
        "outputId": "148157c6-be34-4c18-84f4-7a9c72f42e0e"
      },
      "execution_count": null,
      "outputs": [
        {
          "output_type": "stream",
          "name": "stdout",
          "text": [
            "Epoch 1/5\n",
            "196/196 [==============================] - 42s 204ms/step - loss: 0.6452 - accuracy: 0.6430 - val_loss: 0.5442 - val_accuracy: 0.7572\n",
            "Epoch 2/5\n",
            "196/196 [==============================] - 33s 171ms/step - loss: 0.4769 - accuracy: 0.7868 - val_loss: 0.4516 - val_accuracy: 0.7977\n",
            "Epoch 3/5\n",
            "196/196 [==============================] - 33s 168ms/step - loss: 0.3917 - accuracy: 0.8300 - val_loss: 0.5667 - val_accuracy: 0.7542\n",
            "Epoch 4/5\n",
            "196/196 [==============================] - 31s 159ms/step - loss: 0.3437 - accuracy: 0.8554 - val_loss: 0.3727 - val_accuracy: 0.8364\n",
            "Epoch 5/5\n",
            "196/196 [==============================] - 32s 161ms/step - loss: 0.2923 - accuracy: 0.8780 - val_loss: 0.3935 - val_accuracy: 0.8396\n"
          ]
        },
        {
          "output_type": "execute_result",
          "data": {
            "text/plain": [
              "<keras.src.callbacks.History at 0x7e7c5334e5f0>"
            ]
          },
          "metadata": {},
          "execution_count": 31
        }
      ]
    },
    {
      "cell_type": "markdown",
      "source": [
        "當輸出結果越大，代表文意越趨近於正向"
      ],
      "metadata": {
        "id": "r7Y9un0tng8J"
      }
    },
    {
      "cell_type": "code",
      "source": [
        "from keras.preprocessing.sequence import pad_sequences\n",
        "from keras.preprocessing.text import Tokenizer\n",
        "tokenizer = Tokenizer(num_words=maxlen)"
      ],
      "metadata": {
        "id": "01hXRhLP-fSI"
      },
      "execution_count": null,
      "outputs": []
    },
    {
      "cell_type": "code",
      "source": [
        "sample_text1 = ('The movie was very good.i love it .')\n",
        "\n",
        "# 使用Tokenizer將文本轉換為整數序列\n",
        "seq1 = tokenizer.texts_to_sequences([sample_text1])\n",
        "\n",
        "# 使用pad_sequences將整數序列變成相同的長度\n",
        "maxlen = len(x_train[0])  # 使用與訓練數據相同的最大長度\n",
        "x_pred1 = pad_sequences(seq1, maxlen=maxlen)\n",
        "\n",
        "# 進行預測\n",
        "predictions = model.predict(x_pred1)\n",
        "\n",
        "print(predictions)"
      ],
      "metadata": {
        "colab": {
          "base_uri": "https://localhost:8080/"
        },
        "id": "s4cQu35wniSl",
        "outputId": "7e1d20f8-86e4-48ff-9c44-ccab9cc69d3a"
      },
      "execution_count": null,
      "outputs": [
        {
          "output_type": "stream",
          "name": "stdout",
          "text": [
            "1/1 [==============================] - 0s 26ms/step\n",
            "[[0.73373723]]\n"
          ]
        }
      ]
    },
    {
      "cell_type": "code",
      "source": [
        "sample_text2 = ('The movie was very good. The animation and the graphics '\n",
        "               'were wonderful. I would recommend this movie.')\n",
        "tokenizer.fit_on_texts([sample_text2])\n",
        "# 使用Tokenizer將文本轉換為整數序列\n",
        "seq2 = tokenizer.texts_to_sequences([sample_text2])\n",
        "\n",
        "#　使用pad_sequences將整數序列變成相同的長度\n",
        "maxlen = len(x_train[0])  # 使用與訓練數據相同的最大長度\n",
        "x_pred2 = pad_sequences(seq2, maxlen=maxlen)\n",
        "\n",
        "#　進行預測\n",
        "predictions = model.predict(x_pred2)\n",
        "\n",
        "print(predictions)"
      ],
      "metadata": {
        "colab": {
          "base_uri": "https://localhost:8080/"
        },
        "id": "pA7-62t65wtS",
        "outputId": "9d7c41ca-2b77-408a-a583-489532bbb1d6"
      },
      "execution_count": null,
      "outputs": [
        {
          "output_type": "stream",
          "name": "stdout",
          "text": [
            "1/1 [==============================] - 0s 28ms/step\n",
            "[[0.7089602]]\n"
          ]
        }
      ]
    },
    {
      "cell_type": "code",
      "source": [
        "sample_text3 = ('The movie was terrible, i am angry.')\n",
        "tokenizer.fit_on_texts([sample_text3])\n",
        "# 使用Tokenizer將文本轉換為整數序列\n",
        "seq3 = tokenizer.texts_to_sequences([sample_text3])\n",
        "\n",
        "# 使用pad_sequences將整數序列變成相同的長度\n",
        "maxlen = len(x_train[0])  # 使用與訓練數據相同的最大長度\n",
        "x_pred3 = pad_sequences(seq3, maxlen=maxlen)\n",
        "\n",
        "# 進行預測\n",
        "predictions = model.predict(x_pred3)\n",
        "\n",
        "print(predictions)"
      ],
      "metadata": {
        "colab": {
          "base_uri": "https://localhost:8080/"
        },
        "outputId": "4e533c65-ca53-4938-de9e-25785c9222a7",
        "id": "9G-bbO5IIOHY"
      },
      "execution_count": null,
      "outputs": [
        {
          "output_type": "stream",
          "name": "stdout",
          "text": [
            "1/1 [==============================] - 0s 28ms/step\n",
            "[[0.6040003]]\n"
          ]
        }
      ]
    },
    {
      "cell_type": "code",
      "source": [
        "sample_text4 = ('the movie is boring.')\n",
        "\n",
        "#　使用Tokenizer將文本轉換為整數序列\n",
        "seq4 = tokenizer.texts_to_sequences([sample_text])\n",
        "\n",
        "# 使用pad_sequences將整數序列變成相同的長度\n",
        "maxlen = len(x_train[0])  # 使用與訓練數據相同的最大長度\n",
        "x_pred4 = pad_sequences(seq4, maxlen=maxlen)\n",
        "\n",
        "# 進行預測\n",
        "predictions = model.predict(x_pred4)\n",
        "\n",
        "print(predictions)"
      ],
      "metadata": {
        "colab": {
          "base_uri": "https://localhost:8080/"
        },
        "id": "DyM8zkyNIi8Y",
        "outputId": "7d986621-6c02-46fd-aea1-67c809c43cdb"
      },
      "execution_count": null,
      "outputs": [
        {
          "output_type": "stream",
          "name": "stdout",
          "text": [
            "1/1 [==============================] - 0s 26ms/step\n",
            "[[0.52471304]]\n"
          ]
        }
      ]
    },
    {
      "cell_type": "code",
      "source": [
        "sample_text5 = ('fucking terrible')\n",
        "\n",
        "# 使用Tokenizer將文本轉換為整數序列\n",
        "seq5 = tokenizer.texts_to_sequences([sample_text5])\n",
        "\n",
        "# 使用pad_sequences將整數序列變成相同的長度\n",
        "maxlen = len(x_train[0])  # 使用與訓練數據相同的最大長度\n",
        "x_pred5 = pad_sequences(seq5, maxlen=maxlen)\n",
        "\n",
        "# 進行預測\n",
        "predictions = model.predict(x_pred5)\n",
        "\n",
        "print(predictions)"
      ],
      "metadata": {
        "colab": {
          "base_uri": "https://localhost:8080/"
        },
        "id": "q7kSIDdEm6l-",
        "outputId": "a56523ec-67be-4862-ba22-97418d18c3cd"
      },
      "execution_count": null,
      "outputs": [
        {
          "output_type": "stream",
          "name": "stdout",
          "text": [
            "1/1 [==============================] - 0s 27ms/step\n",
            "[[0.5228959]]\n"
          ]
        }
      ]
    },
    {
      "cell_type": "markdown",
      "source": [
        "評估效果"
      ],
      "metadata": {
        "id": "SHWsznM2lRis"
      }
    },
    {
      "cell_type": "code",
      "source": [
        "score = model.evaluate(x_test,y_test)"
      ],
      "metadata": {
        "colab": {
          "base_uri": "https://localhost:8080/"
        },
        "id": "3syHX799Alt-",
        "outputId": "cc62bb91-4bb6-4bb8-94af-b9dcc9594f86"
      },
      "execution_count": null,
      "outputs": [
        {
          "output_type": "stream",
          "name": "stdout",
          "text": [
            "782/782 [==============================] - 11s 14ms/step - loss: 0.3935 - accuracy: 0.8396\n"
          ]
        }
      ]
    },
    {
      "cell_type": "code",
      "source": [
        "print(\"accuracy:\", score[1]*100)"
      ],
      "metadata": {
        "colab": {
          "base_uri": "https://localhost:8080/"
        },
        "id": "q8IJ4lonAmp7",
        "outputId": "e33d9fcb-f378-4ac2-8058-fe48b8aff810"
      },
      "execution_count": null,
      "outputs": [
        {
          "output_type": "stream",
          "name": "stdout",
          "text": [
            "accuracy: 83.96000266075134\n"
          ]
        }
      ]
    },
    {
      "cell_type": "markdown",
      "source": [
        "儲存RNN"
      ],
      "metadata": {
        "id": "_Mc1LYyy9kKO"
      }
    },
    {
      "cell_type": "code",
      "metadata": {
        "id": "UkHz6PbACrg-",
        "colab": {
          "base_uri": "https://localhost:8080/"
        },
        "outputId": "2e753bcf-6796-4588-ff0e-ce703ff0cf56"
      },
      "source": [
        "from google.colab import drive\n",
        "\n",
        "drive.mount('/content/drive')"
      ],
      "execution_count": null,
      "outputs": [
        {
          "output_type": "stream",
          "name": "stdout",
          "text": [
            "Mounted at /content/drive\n"
          ]
        }
      ]
    },
    {
      "cell_type": "code",
      "metadata": {
        "id": "2puuhaa-C0-Q",
        "colab": {
          "base_uri": "https://localhost:8080/"
        },
        "outputId": "10c26b6b-7925-413e-bcf3-4d75c5caeaec"
      },
      "source": [
        "%cd '/content/drive/My Drive/Colab Notebooks'"
      ],
      "execution_count": null,
      "outputs": [
        {
          "output_type": "stream",
          "name": "stdout",
          "text": [
            "/content/drive/My Drive/Colab Notebooks\n"
          ]
        }
      ]
    },
    {
      "cell_type": "code",
      "metadata": {
        "id": "DTbM9T7A-ver"
      },
      "source": [
        "model_json = model.to_json()\n",
        "open('imdb_model_architecture.json', 'w').write(model_json)\n",
        "model.save_weights('ismdb_model_weights.h5')"
      ],
      "execution_count": null,
      "outputs": []
    }
  ]
}